{
 "cells": [
  {
   "cell_type": "code",
   "execution_count": null,
   "id": "20d94dcd-2469-48b8-81e8-670a528d36b3",
   "metadata": {},
   "outputs": [],
   "source": []
  }
 ],
 "metadata": {
  "kernelspec": {
   "display_name": "",
   "name": ""
  },
  "language_info": {
   "name": ""
  }
 },
 "nbformat": 4,
 "nbformat_minor": 5
}
